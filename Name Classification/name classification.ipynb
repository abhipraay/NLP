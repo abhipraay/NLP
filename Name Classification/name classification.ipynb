{
 "cells": [
  {
   "cell_type": "code",
   "execution_count": 1,
   "metadata": {},
   "outputs": [],
   "source": [
    "import torch\n",
    "import torch.nn as nn\n",
    "import numpy as np\n",
    "import torch.nn.functional as F "
   ]
  },
  {
   "cell_type": "code",
   "execution_count": 2,
   "metadata": {},
   "outputs": [
    {
     "name": "stdout",
     "output_type": "stream",
     "text": [
      "Ślusàrski\n",
      "Slusarski\n",
      "['Abandonato', 'Abatangelo', 'Abatantuono', 'Abate', 'Abategiovanni']\n",
      "18\n",
      "57\n"
     ]
    }
   ],
   "source": [
    "from __future__ import unicode_literals, print_function, division\r\n",
    "from io import open\r\n",
    "import glob\r\n",
    "import os\r\n",
    "import unicodedata\r\n",
    "import string\r\n",
    "\r\n",
    "def findFiles(path): \r\n",
    "    return glob.glob(path)   # returns all the files located in that path   \r\n",
    "\r\n",
    "\r\n",
    "all_letters = string.ascii_letters + \" .,;'\"\r\n",
    "n_letters = len(all_letters)\r\n",
    "\r\n",
    "\r\n",
    "def unicodeToAscii(s):\r\n",
    "    return ''.join(\r\n",
    "        c for c in unicodedata.normalize('NFD', s)\r\n",
    "        if unicodedata.category(c) != 'Mn'\r\n",
    "        and c in all_letters\r\n",
    "    )\r\n",
    "print('Ślusàrski')\r\n",
    "print(unicodeToAscii('Ślusàrski'))    # will convert this to Slusarski\r\n",
    "\r\n",
    "category_lines = {}  # dictionary containing the language as the key and the names under that language.\r\n",
    "all_categories = []  # list containing all the languages \r\n",
    "\r\n",
    "# Read a file and split into lines\r\n",
    "def readLines(filename):\r\n",
    "    lines = open(filename, encoding='utf-8').read().strip().split('\\n')  \r\n",
    "    return [unicodeToAscii(line) for line in lines]\r\n",
    "\r\n",
    "for filename in findFiles('data/names/*.txt'):\r\n",
    "    category = os.path.splitext(os.path.basename(filename))[0]  # stores the name of the file which actually represents the language\r\n",
    "    all_categories.append(category)\r\n",
    "    lines = readLines(filename)   # reads the names inside the files \r\n",
    "    category_lines[category] = lines  # adds it to the dictionary\r\n",
    "\r\n",
    "n_categories = len(all_categories)  \r\n",
    "print(category_lines['Italian'][:5])\r\n",
    "print(n_categories)\r\n",
    "print(n_letters)"
   ]
  },
  {
   "cell_type": "code",
   "execution_count": 3,
   "metadata": {},
   "outputs": [
    {
     "name": "stdout",
     "output_type": "stream",
     "text": [
      "tensor([[0., 0., 0., 0., 0., 0., 0., 0., 0., 0., 0., 0., 0., 0., 0., 0., 0., 0.,\n",
      "         0., 0., 0., 0., 0., 0., 0., 0., 0., 0., 0., 0., 0., 0., 0., 0., 0., 1.,\n",
      "         0., 0., 0., 0., 0., 0., 0., 0., 0., 0., 0., 0., 0., 0., 0., 0., 0., 0.,\n",
      "         0., 0., 0.]])\n",
      "torch.Size([5, 1, 57])\n"
     ]
    }
   ],
   "source": [
    "# Find letter index from all_letters, e.g. \"a\" = 0\n",
    "def letterToIndex(letter):\n",
    "    return all_letters.find(letter)\n",
    "\n",
    "# Just for demonstration, turn a letter into a <1 x n_letters> Tensor\n",
    "def letterToTensor(letter):\n",
    "    tensor = torch.zeros(1, n_letters)\n",
    "    tensor[0][letterToIndex(letter)] = 1\n",
    "    return tensor\n",
    "\n",
    "# Turn a line into a <line_length x 1 x n_letters>,\n",
    "# or an array of one-hot letter vectors\n",
    "def lineToTensor(line):\n",
    "    tensor = torch.zeros(len(line), 1, n_letters)\n",
    "    for li, letter in enumerate(line):\n",
    "        tensor[li][0][letterToIndex(letter)] = 1\n",
    "    return tensor\n",
    "\n",
    "print(letterToTensor('J'))\n",
    "\n",
    "print(lineToTensor('Jones').size())"
   ]
  },
  {
   "cell_type": "code",
   "execution_count": 4,
   "metadata": {},
   "outputs": [
    {
     "name": "stdout",
     "output_type": "stream",
     "text": [
      "category = Spanish / line = Bautista\n",
      "category = Spanish / line = Delgado\n",
      "category = Chinese / line = Yue\n",
      "category = French / line = Salvage\n",
      "category = French / line = Beringer\n",
      "category = Arabic / line = Morcos\n",
      "category = Arabic / line = Atiyeh\n",
      "category = Irish / line = Tadhg\n",
      "category = French / line = Guillory\n",
      "category = Korean / line = Yeo\n"
     ]
    }
   ],
   "source": [
    "import random\r\n",
    "\r\n",
    "def randomChoice(l):\r\n",
    "    return l[random.randint(0, len(l) - 1)]\r\n",
    "# function to return random name from the dataset\r\n",
    "def randomTrainingExample():\r\n",
    "    category = randomChoice(all_categories)\r\n",
    "    line = randomChoice(category_lines[category])\r\n",
    "    category_tensor = torch.tensor([all_categories.index(category)], dtype=torch.long)\r\n",
    "    line_tensor = lineToTensor(line)\r\n",
    "    return category, line, category_tensor, line_tensor\r\n",
    "\r\n",
    "for i in range(10):\r\n",
    "    category, line, category_tensor, line_tensor = randomTrainingExample()\r\n",
    "    print('category =', category, ' name =', line)"
   ]
  },
  {
   "cell_type": "code",
   "execution_count": 5,
   "metadata": {},
   "outputs": [
    {
     "name": "stdout",
     "output_type": "stream",
     "text": [
      "English\n",
      "Kurian\n",
      "torch.Size([1])\n",
      "torch.Size([6, 1, 57])\n"
     ]
    }
   ],
   "source": [
    "category, line, category_tensor, line_tensor = randomTrainingExample()\n",
    "print(category)\n",
    "print(line)\n",
    "print(category_tensor.shape)\n",
    "print(line_tensor.shape)"
   ]
  },
  {
   "cell_type": "markdown",
   "metadata": {},
   "source": [
    "### RNN FROM SCRATCH"
   ]
  },
  {
   "cell_type": "code",
   "execution_count": 6,
   "metadata": {},
   "outputs": [],
   "source": [
    "class RNN_fc(nn.Module):\n",
    "    def __init__(self, input_size, hidden_size, num_classes):\n",
    "        super(RNN_fc, self).__init__()\n",
    "        self.input_size = input_size\n",
    "        self.hidden_size = hidden_size\n",
    "        self.num_classes = num_classes\n",
    "        self.i2h = nn.Linear(input_size  +  hidden_size, hidden_size)\n",
    "        self.i2o = nn.Linear(input_size + hidden_size, num_classes)\n",
    "        self.softmax = nn.LogSoftmax(dim=1)\n",
    "\n",
    "    def forward(self, input, hidden):\n",
    "        combined = torch.cat((input, hidden), 1)\n",
    "        hidden = self.i2h(combined)\n",
    "        output = self.i2o(combined)\n",
    "        output = self.softmax(output)\n",
    "        return output, hidden\n",
    "\n",
    "    def initHidden(self):\n",
    "        return torch.zeros(1, self.hidden_size)    "
   ]
  },
  {
   "cell_type": "markdown",
   "metadata": {},
   "source": [
    "### Using torch.nn.rnn "
   ]
  },
  {
   "cell_type": "code",
   "execution_count": 7,
   "metadata": {},
   "outputs": [],
   "source": [
    "class RNN(nn.Module):\n",
    "    def __init__(self, input_size, hidden_size, num_classes):\n",
    "        super(RNN, self).__init__()\n",
    "        self.input_size = input_size\n",
    "        self.hidden_size = hidden_size\n",
    "        self.num_classes = num_classes\n",
    "        self.rnn = nn.RNN(input_size = input_size, hidden_size = hidden_size, num_layers = 1)\n",
    "        self.fc = nn.Linear(hidden_size, num_classes)\n",
    "    def forward(self, x):\n",
    "        out, h = self.rnn(x)\n",
    "        out = out[-1,:,:]\n",
    "        out = self.fc(out)\n",
    "        return F.log_softmax(out,dim =1)\n",
    "    "
   ]
  },
  {
   "cell_type": "markdown",
   "metadata": {},
   "source": [
    "### LSTM"
   ]
  },
  {
   "cell_type": "code",
   "execution_count": 8,
   "metadata": {},
   "outputs": [],
   "source": [
    "class LSTM(nn.Module):\n",
    "    def __init__(self, input_size, hidden_size, num_classes):\n",
    "        super(LSTM, self).__init__()\n",
    "        self.input_size = input_size\n",
    "        self.hidden_size = hidden_size\n",
    "        self.num_classes = num_classes\n",
    "        self.lstm = nn.LSTM(input_size = input_size, hidden_size = hidden_size, num_layers = 1)\n",
    "        self.fc = nn.Linear(hidden_size, num_classes)\n",
    "    def forward(self, x):\n",
    "        out, (h_n,c_n) = self.lstm(x)\n",
    "        out = out[-1,:,:]\n",
    "        out = self.fc(out)\n",
    "        return F.log_softmax(out,dim =1)\n"
   ]
  },
  {
   "cell_type": "markdown",
   "metadata": {},
   "source": [
    "### GRU"
   ]
  },
  {
   "cell_type": "code",
   "execution_count": 9,
   "metadata": {},
   "outputs": [],
   "source": [
    "class GRU(nn.Module):\n",
    "    def __init__(self, input_size, hidden_size, num_classes):\n",
    "        super(GRU, self).__init__()\n",
    "        self.input_size = input_size\n",
    "        self.hidden_size = hidden_size\n",
    "        self.num_classes = num_classes\n",
    "        self.gru = nn.GRU(input_size = input_size, hidden_size = hidden_size, num_layers = 1)\n",
    "        self.fc = nn.Linear(hidden_size, num_classes)\n",
    "    def forward(self, x):\n",
    "        out, h_n = self.gru(x)\n",
    "        out = out[-1,:,:]\n",
    "        out = self.fc(out)\n",
    "        return F.log_softmax(out,dim =1)"
   ]
  },
  {
   "cell_type": "code",
   "execution_count": 10,
   "metadata": {},
   "outputs": [],
   "source": [
    "def train(model, category_tensor, line_tensor):\n",
    "    \n",
    "    if model == rnn_fc:\n",
    "        hidden = rnn_fc.initHidden()\n",
    "        for i in range(line_tensor.size()[0]):\n",
    "            output, hidden = rnn_fc(line_tensor[i], hidden)\n",
    "    else:    \n",
    "        output = model(line_tensor)\n",
    "        output = output.view(1,18)\n",
    "    \n",
    "    optimizer.zero_grad()\n",
    "    loss = criterion(output, category_tensor)\n",
    "    loss.backward()\n",
    "    optimizer.step()\n",
    "    return output, loss.item()"
   ]
  },
  {
   "cell_type": "code",
   "execution_count": 11,
   "metadata": {},
   "outputs": [],
   "source": [
    "def categoryFromOutput(output):\n",
    "    pred = torch.argmax(output,1)\n",
    "    category_i = pred.item()\n",
    "    return all_categories[category_i], category_i"
   ]
  },
  {
   "cell_type": "code",
   "execution_count": 12,
   "metadata": {},
   "outputs": [],
   "source": [
    "n_hidden = 128\n",
    "rnn_fc = RNN_fc(n_letters, n_hidden, n_categories)\n",
    "model = RNN(n_letters, n_hidden, n_categories)\n",
    "#model = LSTM(n_letters, n_hidden, n_categories)\n",
    "#model = GRU(n_letters, n_hidden, n_categories)\n",
    "learning_rate = 1e-4\n",
    "criterion = nn.NLLLoss()\n",
    "#optimizer = torch.optim.Adam(rnn_fc.parameters(), lr = learning_rate)\n",
    "optimizer = torch.optim.Adam(model.parameters(), lr = learning_rate)"
   ]
  },
  {
   "cell_type": "code",
   "execution_count": 13,
   "metadata": {
    "tags": []
   },
   "outputs": [
    {
     "name": "stdout",
     "output_type": "stream",
     "text": [
      "1%\tloss: 2.8454\tname: Cernochova\t \tguess:Portuguese\t \twrong (Czech)\n",
      "2%\tloss: 2.6439\tname: Chweh\t \tguess:Vietnamese\t \twrong (Korean)\n",
      "3%\tloss: 2.6879\tname: Sepulveda\t \tguess:Russian\t \twrong (Spanish)\n",
      "4%\tloss: 2.7974\tname: Devin\t \tguess:Arabic\t \twrong (Irish)\n",
      "5%\tloss: 1.8241\tname: Wawrzaszek\t \tguess:Polish\t \tcorrect\n",
      "6%\tloss: 2.1241\tname: Jeon\t \tguess:Chinese\t \twrong (Korean)\n",
      "7%\tloss: 2.7803\tname: Caron\t \tguess:Arabic\t \twrong (French)\n",
      "8%\tloss: 2.5725\tname: Petit\t \tguess:Dutch\t \twrong (Spanish)\n",
      "9%\tloss: 2.5266\tname: Paskell\t \tguess:Polish\t \twrong (English)\n",
      "10%\tloss: 2.6261\tname: Sinagra\t \tguess:Japanese\t \twrong (Italian)\n",
      "11%\tloss: 2.2874\tname: Babineaux\t \tguess:French\t \tcorrect\n",
      "12%\tloss: 2.2691\tname: Takecare\t \tguess:Japanese\t \tcorrect\n",
      "13%\tloss: 1.0133\tname: Xie\t \tguess:Korean\t \twrong (Chinese)\n",
      "14%\tloss: 1.3499\tname: Tse\t \tguess:Chinese\t \tcorrect\n",
      "15%\tloss: 0.8615\tname: Sokolsky\t \tguess:Polish\t \tcorrect\n",
      "16%\tloss: 1.8649\tname: Ruan\t \tguess:Arabic\t \twrong (Chinese)\n",
      "17%\tloss: 2.6823\tname: Whyte\t \tguess:Korean\t \twrong (Scottish)\n",
      "18%\tloss: 0.3697\tname: Pakulski\t \tguess:Polish\t \tcorrect\n",
      "19%\tloss: 1.7079\tname: Zelinka\t \tguess:Polish\t \twrong (Czech)\n",
      "20%\tloss: 0.9274\tname: Law\t \tguess:Chinese\t \tcorrect\n",
      "21%\tloss: 1.2354\tname: Chang\t \tguess:Vietnamese\t \twrong (Chinese)\n",
      "22%\tloss: 1.5039\tname: Shiba\t \tguess:Japanese\t \tcorrect\n",
      "23%\tloss: 0.9912\tname: Oh \t \tguess:Korean\t \tcorrect\n",
      "24%\tloss: 0.4529\tname: Nishimura\t \tguess:Japanese\t \tcorrect\n",
      "25%\tloss: 3.4303\tname: Salomon\t \tguess:Scottish\t \twrong (Polish)\n",
      "26%\tloss: 1.6047\tname: Valencia\t \tguess:Spanish\t \tcorrect\n",
      "27%\tloss: 2.3450\tname: Armsden\t \tguess:Dutch\t \twrong (English)\n",
      "28%\tloss: 0.1539\tname: Fukuzawa\t \tguess:Japanese\t \tcorrect\n",
      "29%\tloss: 3.4677\tname: Aalst\t \tguess:Spanish\t \twrong (Dutch)\n",
      "30%\tloss: 1.2800\tname: Shalygin\t \tguess:Russian\t \tcorrect\n",
      "31%\tloss: 3.5574\tname: Batchilo\t \tguess:Spanish\t \twrong (Russian)\n",
      "32%\tloss: 1.4245\tname: Koo\t \tguess:Korean\t \twrong (Chinese)\n",
      "33%\tloss: 1.4056\tname: Pho\t \tguess:Korean\t \twrong (Vietnamese)\n",
      "34%\tloss: 0.1540\tname: Sfakianos\t \tguess:Greek\t \tcorrect\n",
      "35%\tloss: 2.4293\tname: Rumpade\t \tguess:French\t \twrong (Dutch)\n",
      "36%\tloss: 2.0657\tname: Schultze\t \tguess:Scottish\t \twrong (German)\n",
      "37%\tloss: 1.8298\tname: Santana\t \tguess:Italian\t \twrong (Portuguese)\n",
      "38%\tloss: 0.4956\tname: Yu\t \tguess:Korean\t \tcorrect\n",
      "39%\tloss: 1.0533\tname: OuYang\t \tguess:Vietnamese\t \twrong (Chinese)\n",
      "40%\tloss: 2.8241\tname: Amantea\t \tguess:Spanish\t \twrong (Italian)\n",
      "41%\tloss: 0.8149\tname: Bishara\t \tguess:Arabic\t \tcorrect\n",
      "42%\tloss: 0.9910\tname: Evangelista\t \tguess:Spanish\t \twrong (Italian)\n",
      "43%\tloss: 3.0673\tname: Zuniga\t \tguess:Japanese\t \twrong (Spanish)\n",
      "44%\tloss: 1.2438\tname: Phi\t \tguess:Chinese\t \twrong (Vietnamese)\n",
      "45%\tloss: 0.1135\tname: Rinaldi\t \tguess:Italian\t \tcorrect\n",
      "46%\tloss: 0.8399\tname: Dang\t \tguess:Vietnamese\t \tcorrect\n",
      "47%\tloss: 1.4656\tname: Gray\t \tguess:Scottish\t \tcorrect\n",
      "48%\tloss: 0.0932\tname: Tomimoto\t \tguess:Japanese\t \tcorrect\n",
      "49%\tloss: 0.0376\tname: Takayama\t \tguess:Japanese\t \tcorrect\n",
      "50%\tloss: 1.9168\tname: Machado\t \tguess:Japanese\t \twrong (Portuguese)\n",
      "51%\tloss: 2.9913\tname: MonkoAustria\t \tguess:Russian\t \twrong (Czech)\n",
      "52%\tloss: 1.2195\tname: Thornley\t \tguess:Russian\t \twrong (English)\n",
      "53%\tloss: 0.5913\tname: Kruger\t \tguess:German\t \tcorrect\n",
      "54%\tloss: 0.1499\tname: Majewski\t \tguess:Polish\t \tcorrect\n",
      "55%\tloss: 0.7112\tname: Schneijders\t \tguess:Dutch\t \tcorrect\n",
      "56%\tloss: 2.3665\tname: Bishop\t \tguess:Arabic\t \twrong (English)\n",
      "57%\tloss: 0.5089\tname: Weiner\t \tguess:German\t \tcorrect\n",
      "58%\tloss: 0.0200\tname: Dankov\t \tguess:Russian\t \tcorrect\n",
      "59%\tloss: 1.2604\tname: Pfaff\t \tguess:German\t \tcorrect\n",
      "60%\tloss: 0.2867\tname: O'Meara\t \tguess:Irish\t \tcorrect\n",
      "61%\tloss: 1.1186\tname: Thurston\t \tguess:English\t \tcorrect\n",
      "62%\tloss: 2.5989\tname: Cham\t \tguess:Chinese\t \twrong (Arabic)\n",
      "63%\tloss: 0.7681\tname: Gardinier\t \tguess:French\t \tcorrect\n",
      "64%\tloss: 0.4312\tname: Martinez\t \tguess:Spanish\t \tcorrect\n",
      "65%\tloss: 2.0234\tname: Meinhardt\t \tguess:Irish\t \twrong (German)\n",
      "66%\tloss: 3.4290\tname: Clark\t \tguess:Czech\t \twrong (Irish)\n",
      "67%\tloss: 1.7684\tname: Romero\t \tguess:Portuguese\t \twrong (Spanish)\n",
      "68%\tloss: 1.6375\tname: Vincent\t \tguess:French\t \twrong (English)\n",
      "69%\tloss: 0.1464\tname: Pedrotti\t \tguess:Italian\t \tcorrect\n",
      "70%\tloss: 2.7351\tname: Perks\t \tguess:Polish\t \twrong (English)\n",
      "71%\tloss: 1.3645\tname: Klerks\t \tguess:Czech\t \twrong (Dutch)\n",
      "72%\tloss: 0.0128\tname: Shalashov\t \tguess:Russian\t \tcorrect\n",
      "73%\tloss: 0.5679\tname: Song\t \tguess:Korean\t \tcorrect\n",
      "74%\tloss: 0.9047\tname: Varvitsiotes\t \tguess:Greek\t \tcorrect\n",
      "75%\tloss: 2.8953\tname: Roosevelt\t \tguess:French\t \twrong (Dutch)\n",
      "76%\tloss: 0.0193\tname: Molokov\t \tguess:Russian\t \tcorrect\n",
      "77%\tloss: 0.4827\tname: Ferro\t \tguess:Portuguese\t \tcorrect\n",
      "78%\tloss: 0.8838\tname: Freitas\t \tguess:Portuguese\t \tcorrect\n",
      "79%\tloss: 0.3420\tname: Mcdonald\t \tguess:Scottish\t \tcorrect\n",
      "80%\tloss: 0.8905\tname: Alves\t \tguess:Spanish\t \tcorrect\n",
      "81%\tloss: 0.2745\tname: Fionn\t \tguess:Irish\t \tcorrect\n",
      "82%\tloss: 1.8190\tname: Mcguire\t \tguess:French\t \twrong (Irish)\n",
      "83%\tloss: 0.1374\tname: Hatskevich\t \tguess:Russian\t \tcorrect\n",
      "84%\tloss: 0.6514\tname: Johnston\t \tguess:Scottish\t \tcorrect\n",
      "85%\tloss: 1.1583\tname: Tsalaban\t \tguess:Russian\t \tcorrect\n",
      "86%\tloss: 0.0486\tname: Xing\t \tguess:Chinese\t \tcorrect\n",
      "87%\tloss: 0.2383\tname: Lindsay\t \tguess:Scottish\t \tcorrect\n",
      "88%\tloss: 0.7691\tname: Castillo\t \tguess:Spanish\t \tcorrect\n",
      "89%\tloss: 0.0636\tname: Golovatov\t \tguess:Russian\t \tcorrect\n",
      "90%\tloss: 2.5369\tname: Reyes\t \tguess:Dutch\t \twrong (Spanish)\n",
      "91%\tloss: 0.9667\tname: Gray\t \tguess:Scottish\t \tcorrect\n",
      "92%\tloss: 0.7690\tname: Metz\t \tguess:German\t \tcorrect\n",
      "93%\tloss: 1.6562\tname: Garber\t \tguess:Arabic\t \twrong (German)\n",
      "94%\tloss: 2.0348\tname: Kerr\t \tguess:German\t \twrong (Scottish)\n",
      "95%\tloss: 0.8272\tname: Finn\t \tguess:Irish\t \tcorrect\n",
      "96%\tloss: 6.0757\tname: Rog\t \tguess:Korean\t \twrong (Polish)\n",
      "97%\tloss: 0.1678\tname: Majewski\t \tguess:Polish\t \tcorrect\n",
      "98%\tloss: 0.2998\tname: Youn\t \tguess:Korean\t \tcorrect\n",
      "99%\tloss: 7.2813\tname: Abels\t \tguess:Spanish\t \twrong (Russian)\n",
      "100%\tloss: 0.9002\tname: Chellos\t \tguess:Greek\t \tcorrect\n"
     ]
    }
   ],
   "source": [
    "current_loss = 0\r\n",
    "all_losses = []\r\n",
    "n_iters = 100000\r\n",
    "for iter in range(1, n_iters + 1):\r\n",
    "    category, line, category_tensor, line_tensor = randomTrainingExample()\r\n",
    "    output, loss = train(model, category_tensor, line_tensor)\r\n",
    "    current_loss += loss\r\n",
    "\r\n",
    "    \r\n",
    "    if iter % 1000 == 0:\r\n",
    "        guess, guess_i = categoryFromOutput(output)\r\n",
    "        correct = 'correct' if guess == category else 'wrong ({})'.format(category)\r\n",
    "        print(\"{:.0f}%\\tloss: {:.4f}\\tname: {}\\t \\tguess:{}\\t \\t{}\".format(iter / n_iters * 100, loss, line, guess, correct))\r\n",
    "    if iter % 1000 == 0:\r\n",
    "        all_losses.append(current_loss / 1000)\r\n",
    "        current_loss = 0    "
   ]
  },
  {
   "cell_type": "markdown",
   "metadata": {},
   "source": [
    "plotting the losses over epochs"
   ]
  },
  {
   "cell_type": "code",
   "execution_count": 14,
   "metadata": {},
   "outputs": [
    {
     "data": {
      "text/plain": "[<matplotlib.lines.Line2D at 0x1afde1b1970>]"
     },
     "execution_count": 14,
     "metadata": {},
     "output_type": "execute_result"
    },
    {
     "data": {
      "image/png": "[encoded data removed]",
      "text/plain": "<Figure size 432x288 with 1 Axes>"
     },
     "metadata": {
      "needs_background": "light"
     },
     "output_type": "display_data"
    }
   ],
   "source": [
    "import matplotlib.pyplot as plt\n",
    "import matplotlib.ticker as ticker\n",
    "\n",
    "plt.figure()\n",
    "plt.plot(all_losses)"
   ]
  },
  {
   "cell_type": "markdown",
   "metadata": {},
   "source": [
    "checking the performance by entering a random name from the dataset"
   ]
  },
  {
   "cell_type": "code",
   "execution_count": 15,
   "metadata": {},
   "outputs": [
    {
     "name": "stdout",
     "output_type": "stream",
     "text": [
      "('Japanese', 10)\n"
     ]
    }
   ],
   "source": [
    "test = lineToTensor('Abukara')\n",
    "output = model(test)\n",
    "print(categoryFromOutput(output))"
   ]
  }
 ],
 "metadata": {
  "kernelspec": {
   "display_name": "Python 3.8.5 64-bit ('base': conda)",
   "name": "python385jvsc74a57bd0b3ba2566441a7c06988d0923437866b63cedc61552a5af99d1f4fb67d367b25f"
  },
  "language_info": {
   "codemirror_mode": {
    "name": "ipython",
    "version": 3
   },
   "file_extension": ".py",
   "mimetype": "text/x-python",
   "name": "python",
   "nbconvert_exporter": "python",
   "pygments_lexer": "ipython3",
   "version": "3.8.5"
  },
  "orig_nbformat": 2
 },
 "nbformat": 4,
 "nbformat_minor": 2
}